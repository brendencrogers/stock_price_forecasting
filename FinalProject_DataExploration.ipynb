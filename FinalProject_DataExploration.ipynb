{
  "nbformat": 4,
  "nbformat_minor": 0,
  "metadata": {
    "colab": {
      "provenance": []
    },
    "kernelspec": {
      "name": "python3",
      "display_name": "Python 3"
    },
    "language_info": {
      "name": "python"
    }
  },
  "cells": [
    {
      "cell_type": "code",
      "execution_count": null,
      "metadata": {
        "id": "VRo1OxOxVKff"
      },
      "outputs": [],
      "source": [
        "import pandas as pd\n",
        "import numpy as np\n",
        "\n",
        "from sklearn.preprocessing import PolynomialFeatures, StandardScaler\n",
        "from sklearn.pipeline import make_pipeline\n",
        "from sklearn.linear_model import LinearRegression\n",
        "from sklearn.preprocessing import FunctionTransformer\n",
        "from sklearn.pipeline import make_union\n",
        "from sklearn.cluster import KMeans"
      ]
    },
    {
      "cell_type": "code",
      "source": [
        "tsla = pd.read_csv(\"tsla.csv\").drop(\"Unnamed: 0\", axis=1)\n",
        "att = pd.read_csv(\"att.csv\").drop(\"Unnamed: 0\", axis=1)\n",
        "ko = pd.read_csv(\"ko.csv\").drop(\"Unnamed: 0\", axis=1)"
      ],
      "metadata": {
        "id": "8hYQRfyFGyB1"
      },
      "execution_count": null,
      "outputs": []
    },
    {
      "cell_type": "code",
      "source": [
        "tsla[\"Price\"] = tsla.Price.str.replace(\",\", \"\").astype(float)"
      ],
      "metadata": {
        "id": "ax1nrUwsXHQL"
      },
      "execution_count": null,
      "outputs": []
    },
    {
      "cell_type": "code",
      "source": [
        "stock_df = pd.read_csv(\"stock_df.csv\").drop(\"Unnamed: 0\", axis=1)\n",
        "metrics_df = pd.read_csv(\"metrics.csv\").drop(\"Unnamed: 0\", axis=1).dropna()\n",
        "\n",
        "metrics_df[\"ROEttm\"] = metrics_df[\"ReturnOnEquityTTM\"].replace(-99999.990, -3.21)\n",
        "stock_df"
      ],
      "metadata": {
        "id": "vtd5ovX5VTpF",
        "colab": {
          "base_uri": "https://localhost:8080/",
          "height": 678
        },
        "outputId": "0f008b05-96f5-46ae-8364-bba579f3398e"
      },
      "execution_count": null,
      "outputs": [
        {
          "output_type": "execute_result",
          "data": {
            "text/plain": [
              "               v        vw       o       c         h       l           t  \\\n",
              "0    276990436.0  281.1395  284.64  288.42  288.5200  273.50  2020-03-10   \n",
              "1    256734314.0  277.6211  280.70  274.36  281.9400  270.88  2020-03-11   \n",
              "2    393679530.0  255.6975  256.00  248.11  266.6600  247.68  2020-03-12   \n",
              "3    330252283.0  258.7299  263.09  269.32  271.4754  249.58  2020-03-13   \n",
              "4    296792617.0  248.7405  241.18  239.85  256.9000  237.36  2020-03-16   \n",
              "..           ...       ...     ...     ...       ...     ...         ...   \n",
              "538  132374005.0  425.9146  432.66  421.95  433.2600  421.35  2022-02-23   \n",
              "539  213923446.0  419.7499  411.02  428.30  428.7600  410.64  2022-02-24   \n",
              "540  121785659.0  434.3466  429.61  437.75  437.8400  427.86  2022-02-25   \n",
              "541  145594529.0  434.5719  432.03  436.63  438.2000  430.70  2022-02-28   \n",
              "542  137720158.0  431.6669  435.04  429.98  437.1700  427.11  2022-03-01   \n",
              "\n",
              "           n  10Y yield  monthly_inflation_exp  employment_rate  daily return  \\\n",
              "0    2516869       0.76                    2.1             14.7      0.000000   \n",
              "1    2152459       0.82                    2.1             14.7     -0.048748   \n",
              "2    3709924       0.88                    2.1             14.7     -0.095677   \n",
              "3    2676722       0.94                    2.1             14.7      0.085486   \n",
              "4    2147728       0.73                    2.1             14.7     -0.109424   \n",
              "..       ...        ...                    ...              ...           ...   \n",
              "538  1166037       1.99                    5.0              3.6     -0.017739   \n",
              "539  2316981       1.96                    5.0              3.6      0.015049   \n",
              "540  1141900       1.97                    5.0              3.6      0.022064   \n",
              "541  1305973       1.83                    5.0              3.6     -0.002559   \n",
              "542  1422063       1.72                    5.0              3.6     -0.015230   \n",
              "\n",
              "            time  \n",
              "0    2020.191781  \n",
              "1    2020.194521  \n",
              "2    2020.197260  \n",
              "3    2020.200000  \n",
              "4    2020.208219  \n",
              "..           ...  \n",
              "538  2022.145205  \n",
              "539  2022.147945  \n",
              "540  2022.150685  \n",
              "541  2022.158904  \n",
              "542  2022.167123  \n",
              "\n",
              "[543 rows x 13 columns]"
            ],
            "text/html": [
              "\n",
              "  <div id=\"df-37490602-843c-40dd-9173-9e9feeb70b5f\">\n",
              "    <div class=\"colab-df-container\">\n",
              "      <div>\n",
              "<style scoped>\n",
              "    .dataframe tbody tr th:only-of-type {\n",
              "        vertical-align: middle;\n",
              "    }\n",
              "\n",
              "    .dataframe tbody tr th {\n",
              "        vertical-align: top;\n",
              "    }\n",
              "\n",
              "    .dataframe thead th {\n",
              "        text-align: right;\n",
              "    }\n",
              "</style>\n",
              "<table border=\"1\" class=\"dataframe\">\n",
              "  <thead>\n",
              "    <tr style=\"text-align: right;\">\n",
              "      <th></th>\n",
              "      <th>v</th>\n",
              "      <th>vw</th>\n",
              "      <th>o</th>\n",
              "      <th>c</th>\n",
              "      <th>h</th>\n",
              "      <th>l</th>\n",
              "      <th>t</th>\n",
              "      <th>n</th>\n",
              "      <th>10Y yield</th>\n",
              "      <th>monthly_inflation_exp</th>\n",
              "      <th>employment_rate</th>\n",
              "      <th>daily return</th>\n",
              "      <th>time</th>\n",
              "    </tr>\n",
              "  </thead>\n",
              "  <tbody>\n",
              "    <tr>\n",
              "      <th>0</th>\n",
              "      <td>276990436.0</td>\n",
              "      <td>281.1395</td>\n",
              "      <td>284.64</td>\n",
              "      <td>288.42</td>\n",
              "      <td>288.5200</td>\n",
              "      <td>273.50</td>\n",
              "      <td>2020-03-10</td>\n",
              "      <td>2516869</td>\n",
              "      <td>0.76</td>\n",
              "      <td>2.1</td>\n",
              "      <td>14.7</td>\n",
              "      <td>0.000000</td>\n",
              "      <td>2020.191781</td>\n",
              "    </tr>\n",
              "    <tr>\n",
              "      <th>1</th>\n",
              "      <td>256734314.0</td>\n",
              "      <td>277.6211</td>\n",
              "      <td>280.70</td>\n",
              "      <td>274.36</td>\n",
              "      <td>281.9400</td>\n",
              "      <td>270.88</td>\n",
              "      <td>2020-03-11</td>\n",
              "      <td>2152459</td>\n",
              "      <td>0.82</td>\n",
              "      <td>2.1</td>\n",
              "      <td>14.7</td>\n",
              "      <td>-0.048748</td>\n",
              "      <td>2020.194521</td>\n",
              "    </tr>\n",
              "    <tr>\n",
              "      <th>2</th>\n",
              "      <td>393679530.0</td>\n",
              "      <td>255.6975</td>\n",
              "      <td>256.00</td>\n",
              "      <td>248.11</td>\n",
              "      <td>266.6600</td>\n",
              "      <td>247.68</td>\n",
              "      <td>2020-03-12</td>\n",
              "      <td>3709924</td>\n",
              "      <td>0.88</td>\n",
              "      <td>2.1</td>\n",
              "      <td>14.7</td>\n",
              "      <td>-0.095677</td>\n",
              "      <td>2020.197260</td>\n",
              "    </tr>\n",
              "    <tr>\n",
              "      <th>3</th>\n",
              "      <td>330252283.0</td>\n",
              "      <td>258.7299</td>\n",
              "      <td>263.09</td>\n",
              "      <td>269.32</td>\n",
              "      <td>271.4754</td>\n",
              "      <td>249.58</td>\n",
              "      <td>2020-03-13</td>\n",
              "      <td>2676722</td>\n",
              "      <td>0.94</td>\n",
              "      <td>2.1</td>\n",
              "      <td>14.7</td>\n",
              "      <td>0.085486</td>\n",
              "      <td>2020.200000</td>\n",
              "    </tr>\n",
              "    <tr>\n",
              "      <th>4</th>\n",
              "      <td>296792617.0</td>\n",
              "      <td>248.7405</td>\n",
              "      <td>241.18</td>\n",
              "      <td>239.85</td>\n",
              "      <td>256.9000</td>\n",
              "      <td>237.36</td>\n",
              "      <td>2020-03-16</td>\n",
              "      <td>2147728</td>\n",
              "      <td>0.73</td>\n",
              "      <td>2.1</td>\n",
              "      <td>14.7</td>\n",
              "      <td>-0.109424</td>\n",
              "      <td>2020.208219</td>\n",
              "    </tr>\n",
              "    <tr>\n",
              "      <th>...</th>\n",
              "      <td>...</td>\n",
              "      <td>...</td>\n",
              "      <td>...</td>\n",
              "      <td>...</td>\n",
              "      <td>...</td>\n",
              "      <td>...</td>\n",
              "      <td>...</td>\n",
              "      <td>...</td>\n",
              "      <td>...</td>\n",
              "      <td>...</td>\n",
              "      <td>...</td>\n",
              "      <td>...</td>\n",
              "      <td>...</td>\n",
              "    </tr>\n",
              "    <tr>\n",
              "      <th>538</th>\n",
              "      <td>132374005.0</td>\n",
              "      <td>425.9146</td>\n",
              "      <td>432.66</td>\n",
              "      <td>421.95</td>\n",
              "      <td>433.2600</td>\n",
              "      <td>421.35</td>\n",
              "      <td>2022-02-23</td>\n",
              "      <td>1166037</td>\n",
              "      <td>1.99</td>\n",
              "      <td>5.0</td>\n",
              "      <td>3.6</td>\n",
              "      <td>-0.017739</td>\n",
              "      <td>2022.145205</td>\n",
              "    </tr>\n",
              "    <tr>\n",
              "      <th>539</th>\n",
              "      <td>213923446.0</td>\n",
              "      <td>419.7499</td>\n",
              "      <td>411.02</td>\n",
              "      <td>428.30</td>\n",
              "      <td>428.7600</td>\n",
              "      <td>410.64</td>\n",
              "      <td>2022-02-24</td>\n",
              "      <td>2316981</td>\n",
              "      <td>1.96</td>\n",
              "      <td>5.0</td>\n",
              "      <td>3.6</td>\n",
              "      <td>0.015049</td>\n",
              "      <td>2022.147945</td>\n",
              "    </tr>\n",
              "    <tr>\n",
              "      <th>540</th>\n",
              "      <td>121785659.0</td>\n",
              "      <td>434.3466</td>\n",
              "      <td>429.61</td>\n",
              "      <td>437.75</td>\n",
              "      <td>437.8400</td>\n",
              "      <td>427.86</td>\n",
              "      <td>2022-02-25</td>\n",
              "      <td>1141900</td>\n",
              "      <td>1.97</td>\n",
              "      <td>5.0</td>\n",
              "      <td>3.6</td>\n",
              "      <td>0.022064</td>\n",
              "      <td>2022.150685</td>\n",
              "    </tr>\n",
              "    <tr>\n",
              "      <th>541</th>\n",
              "      <td>145594529.0</td>\n",
              "      <td>434.5719</td>\n",
              "      <td>432.03</td>\n",
              "      <td>436.63</td>\n",
              "      <td>438.2000</td>\n",
              "      <td>430.70</td>\n",
              "      <td>2022-02-28</td>\n",
              "      <td>1305973</td>\n",
              "      <td>1.83</td>\n",
              "      <td>5.0</td>\n",
              "      <td>3.6</td>\n",
              "      <td>-0.002559</td>\n",
              "      <td>2022.158904</td>\n",
              "    </tr>\n",
              "    <tr>\n",
              "      <th>542</th>\n",
              "      <td>137720158.0</td>\n",
              "      <td>431.6669</td>\n",
              "      <td>435.04</td>\n",
              "      <td>429.98</td>\n",
              "      <td>437.1700</td>\n",
              "      <td>427.11</td>\n",
              "      <td>2022-03-01</td>\n",
              "      <td>1422063</td>\n",
              "      <td>1.72</td>\n",
              "      <td>5.0</td>\n",
              "      <td>3.6</td>\n",
              "      <td>-0.015230</td>\n",
              "      <td>2022.167123</td>\n",
              "    </tr>\n",
              "  </tbody>\n",
              "</table>\n",
              "<p>543 rows × 13 columns</p>\n",
              "</div>\n",
              "      <button class=\"colab-df-convert\" onclick=\"convertToInteractive('df-37490602-843c-40dd-9173-9e9feeb70b5f')\"\n",
              "              title=\"Convert this dataframe to an interactive table.\"\n",
              "              style=\"display:none;\">\n",
              "        \n",
              "  <svg xmlns=\"http://www.w3.org/2000/svg\" height=\"24px\"viewBox=\"0 0 24 24\"\n",
              "       width=\"24px\">\n",
              "    <path d=\"M0 0h24v24H0V0z\" fill=\"none\"/>\n",
              "    <path d=\"M18.56 5.44l.94 2.06.94-2.06 2.06-.94-2.06-.94-.94-2.06-.94 2.06-2.06.94zm-11 1L8.5 8.5l.94-2.06 2.06-.94-2.06-.94L8.5 2.5l-.94 2.06-2.06.94zm10 10l.94 2.06.94-2.06 2.06-.94-2.06-.94-.94-2.06-.94 2.06-2.06.94z\"/><path d=\"M17.41 7.96l-1.37-1.37c-.4-.4-.92-.59-1.43-.59-.52 0-1.04.2-1.43.59L10.3 9.45l-7.72 7.72c-.78.78-.78 2.05 0 2.83L4 21.41c.39.39.9.59 1.41.59.51 0 1.02-.2 1.41-.59l7.78-7.78 2.81-2.81c.8-.78.8-2.07 0-2.86zM5.41 20L4 18.59l7.72-7.72 1.47 1.35L5.41 20z\"/>\n",
              "  </svg>\n",
              "      </button>\n",
              "      \n",
              "  <style>\n",
              "    .colab-df-container {\n",
              "      display:flex;\n",
              "      flex-wrap:wrap;\n",
              "      gap: 12px;\n",
              "    }\n",
              "\n",
              "    .colab-df-convert {\n",
              "      background-color: #E8F0FE;\n",
              "      border: none;\n",
              "      border-radius: 50%;\n",
              "      cursor: pointer;\n",
              "      display: none;\n",
              "      fill: #1967D2;\n",
              "      height: 32px;\n",
              "      padding: 0 0 0 0;\n",
              "      width: 32px;\n",
              "    }\n",
              "\n",
              "    .colab-df-convert:hover {\n",
              "      background-color: #E2EBFA;\n",
              "      box-shadow: 0px 1px 2px rgba(60, 64, 67, 0.3), 0px 1px 3px 1px rgba(60, 64, 67, 0.15);\n",
              "      fill: #174EA6;\n",
              "    }\n",
              "\n",
              "    [theme=dark] .colab-df-convert {\n",
              "      background-color: #3B4455;\n",
              "      fill: #D2E3FC;\n",
              "    }\n",
              "\n",
              "    [theme=dark] .colab-df-convert:hover {\n",
              "      background-color: #434B5C;\n",
              "      box-shadow: 0px 1px 3px 1px rgba(0, 0, 0, 0.15);\n",
              "      filter: drop-shadow(0px 1px 2px rgba(0, 0, 0, 0.3));\n",
              "      fill: #FFFFFF;\n",
              "    }\n",
              "  </style>\n",
              "\n",
              "      <script>\n",
              "        const buttonEl =\n",
              "          document.querySelector('#df-37490602-843c-40dd-9173-9e9feeb70b5f button.colab-df-convert');\n",
              "        buttonEl.style.display =\n",
              "          google.colab.kernel.accessAllowed ? 'block' : 'none';\n",
              "\n",
              "        async function convertToInteractive(key) {\n",
              "          const element = document.querySelector('#df-37490602-843c-40dd-9173-9e9feeb70b5f');\n",
              "          const dataTable =\n",
              "            await google.colab.kernel.invokeFunction('convertToInteractive',\n",
              "                                                     [key], {});\n",
              "          if (!dataTable) return;\n",
              "\n",
              "          const docLinkHtml = 'Like what you see? Visit the ' +\n",
              "            '<a target=\"_blank\" href=https://colab.research.google.com/notebooks/data_table.ipynb>data table notebook</a>'\n",
              "            + ' to learn more about interactive tables.';\n",
              "          element.innerHTML = '';\n",
              "          dataTable['output_type'] = 'display_data';\n",
              "          await google.colab.output.renderOutput(dataTable, element);\n",
              "          const docLink = document.createElement('div');\n",
              "          docLink.innerHTML = docLinkHtml;\n",
              "          element.appendChild(docLink);\n",
              "        }\n",
              "      </script>\n",
              "    </div>\n",
              "  </div>\n",
              "  "
            ]
          },
          "metadata": {},
          "execution_count": 3
        }
      ]
    },
    {
      "cell_type": "code",
      "source": [
        "metric_xtrain = metrics_df[[\"Beta\", \"ROEttm\"]]#.dropna(axis=0)\n",
        "\n",
        "cluster_model = make_pipeline(\n",
        "    StandardScaler(),\n",
        "    KMeans(n_clusters=3)\n",
        ")\n",
        "\n",
        "cluster_model.fit(metric_xtrain)"
      ],
      "metadata": {
        "colab": {
          "base_uri": "https://localhost:8080/"
        },
        "id": "pDcC2T_2DytV",
        "outputId": "052ee48e-7148-44ba-d263-cb3f2d940fcc"
      },
      "execution_count": null,
      "outputs": [
        {
          "output_type": "execute_result",
          "data": {
            "text/plain": [
              "Pipeline(steps=[('standardscaler', StandardScaler()),\n",
              "                ('kmeans', KMeans(n_clusters=3))])"
            ]
          },
          "metadata": {},
          "execution_count": 4
        }
      ]
    },
    {
      "cell_type": "code",
      "source": [
        "clusters = pd.Series(cluster_model[1].labels_).map({\n",
        "    0: \"r\",\n",
        "    1: \"b\",\n",
        "    2: \"y\",\n",
        "    3: \"g\",\n",
        "    4: \"black\"\n",
        "})\n",
        "\n",
        "metric_xtrain.plot.scatter(x=\"Beta\", y=\"ROEttm\", \n",
        "                     c=clusters, marker=\"x\", alpha=.5, title=\"RISK VS. RETURN\")"
      ],
      "metadata": {
        "colab": {
          "base_uri": "https://localhost:8080/",
          "height": 313
        },
        "id": "97HDPi7w4MmP",
        "outputId": "326c0e7c-67a0-4bd7-aa30-ad090c83c88a"
      },
      "execution_count": null,
      "outputs": [
        {
          "output_type": "execute_result",
          "data": {
            "text/plain": [
              "<matplotlib.axes._subplots.AxesSubplot at 0x7f4470cc4a90>"
            ]
          },
          "metadata": {},
          "execution_count": 7
        },
        {
          "output_type": "display_data",
          "data": {
            "text/plain": [
              "<Figure size 432x288 with 1 Axes>"
            ],
            "image/png": "[encoded data removed]"
          },
          "metadata": {
            "needs_background": "light"
          }
        }
      ]
    },
    {
      "cell_type": "code",
      "source": [
        "metrics_df[\"cluster\"] = cluster_model[1].labels_\n",
        "metrics_df.groupby(\"cluster\").ROEttm.mean(), metrics_df.groupby(\"cluster\").Beta.mean()"
      ],
      "metadata": {
        "colab": {
          "base_uri": "https://localhost:8080/"
        },
        "id": "v6TsB-9WD_78",
        "outputId": "bd01d0f8-4edf-4d9c-8dc3-44a56059d12f"
      },
      "execution_count": null,
      "outputs": [
        {
          "output_type": "execute_result",
          "data": {
            "text/plain": [
              "(cluster\n",
              " 0     6.871000\n",
              " 1    42.230000\n",
              " 2     2.468125\n",
              " Name: ROEttm, dtype: float64, cluster\n",
              " 0    1.404000\n",
              " 1    0.863000\n",
              " 2    0.761125\n",
              " Name: Beta, dtype: float64)"
            ]
          },
          "metadata": {},
          "execution_count": 8
        }
      ]
    },
    {
      "cell_type": "code",
      "source": [
        "metrics_df.groupby(\"cluster\").ROEttm.std(), metrics_df.groupby(\"cluster\").Beta.std()"
      ],
      "metadata": {
        "colab": {
          "base_uri": "https://localhost:8080/"
        },
        "id": "6PVtkWkCfCrX",
        "outputId": "aed79eca-a995-47f6-82e5-94f7cc437be8"
      },
      "execution_count": null,
      "outputs": [
        {
          "output_type": "execute_result",
          "data": {
            "text/plain": [
              "(cluster\n",
              " 0     9.245989\n",
              " 1    12.759138\n",
              " 2     6.803860\n",
              " Name: ROEttm, dtype: float64, cluster\n",
              " 0    0.253901\n",
              " 1    0.379645\n",
              " 2    0.225507\n",
              " Name: Beta, dtype: float64)"
            ]
          },
          "metadata": {},
          "execution_count": 9
        }
      ]
    },
    {
      "cell_type": "code",
      "source": [
        "metrics_df[metrics_df.cluster == 0]"
      ],
      "metadata": {
        "id": "pc92uj9HxDnP"
      },
      "execution_count": null,
      "outputs": []
    },
    {
      "cell_type": "code",
      "source": [
        "metrics_df[metrics_df.cluster == 1]"
      ],
      "metadata": {
        "id": "PbdCAskCyAE5"
      },
      "execution_count": null,
      "outputs": []
    },
    {
      "cell_type": "code",
      "source": [
        "metrics_df[metrics_df.cluster == 2]"
      ],
      "metadata": {
        "id": "AeCRFUAZ1Jeu"
      },
      "execution_count": null,
      "outputs": []
    },
    {
      "cell_type": "code",
      "source": [
        "att.set_index(\"t\").Price.plot.line(legend=True, title=\"AT&T\")"
      ],
      "metadata": {
        "colab": {
          "base_uri": "https://localhost:8080/",
          "height": 313
        },
        "id": "p0vhgzRzLFRI",
        "outputId": "aeb12577-513e-4acb-a882-ebb74de24b9e"
      },
      "execution_count": null,
      "outputs": [
        {
          "output_type": "execute_result",
          "data": {
            "text/plain": [
              "<matplotlib.axes._subplots.AxesSubplot at 0x7f44705b2ed0>"
            ]
          },
          "metadata": {},
          "execution_count": 17
        },
        {
          "output_type": "display_data",
          "data": {
            "text/plain": [
              "<Figure size 432x288 with 1 Axes>"
            ],
            "image/png": "[encoded data removed]"
          },
          "metadata": {
            "needs_background": "light"
          }
        }
      ]
    },
    {
      "cell_type": "code",
      "source": [
        "ko.set_index(\"t\").Price.plot.line(legend=True, title=\"Coke\")"
      ],
      "metadata": {
        "colab": {
          "base_uri": "https://localhost:8080/",
          "height": 313
        },
        "id": "IfO2cEB3LOT_",
        "outputId": "b6297bf5-125b-4026-b518-11e1643df506"
      },
      "execution_count": null,
      "outputs": [
        {
          "output_type": "execute_result",
          "data": {
            "text/plain": [
              "<matplotlib.axes._subplots.AxesSubplot at 0x7f4470563710>"
            ]
          },
          "metadata": {},
          "execution_count": 18
        },
        {
          "output_type": "display_data",
          "data": {
            "text/plain": [
              "<Figure size 432x288 with 1 Axes>"
            ],
            "image/png": "[encoded data removed]"
          },
          "metadata": {
            "needs_background": "light"
          }
        }
      ]
    },
    {
      "cell_type": "code",
      "source": [
        "tsla.set_index(\"t\").Price.plot.line(legend=True, title=\"Tesla\")"
      ],
      "metadata": {
        "colab": {
          "base_uri": "https://localhost:8080/",
          "height": 313
        },
        "id": "4CtciJfSX4yN",
        "outputId": "493dd5d4-4e7d-4d81-cd9d-a8cb65ef377c"
      },
      "execution_count": null,
      "outputs": [
        {
          "output_type": "execute_result",
          "data": {
            "text/plain": [
              "<matplotlib.axes._subplots.AxesSubplot at 0x7f447055b410>"
            ]
          },
          "metadata": {},
          "execution_count": 19
        },
        {
          "output_type": "display_data",
          "data": {
            "text/plain": [
              "<Figure size 432x288 with 1 Axes>"
            ],
            "image/png": "[encoded data removed]"
          },
          "metadata": {
            "needs_background": "light"
          }
        }
      ]
    },
    {
      "cell_type": "code",
      "source": [
        "pd.Series({\"TSLA\": metrics_df[metrics_df[\"Symbol\"] == \"TSLA\"].ROEttm.iloc[0], \"ATT\": metrics_df[metrics_df[\"Symbol\"] == \"T\"].ROEttm.iloc[0], \"KO\": metrics_df[metrics_df[\"Symbol\"] == \"KO\"].ROEttm.iloc[0]}, name=\"ROE\").plot.bar(legend=True)"
      ],
      "metadata": {
        "colab": {
          "base_uri": "https://localhost:8080/",
          "height": 298
        },
        "id": "pvsB28JTYOLn",
        "outputId": "b8945a64-c3f5-42d7-fa5e-75eb397b6393"
      },
      "execution_count": null,
      "outputs": [
        {
          "output_type": "execute_result",
          "data": {
            "text/plain": [
              "<matplotlib.axes._subplots.AxesSubplot at 0x7fb6b0fb8610>"
            ]
          },
          "metadata": {},
          "execution_count": 46
        },
        {
          "output_type": "display_data",
          "data": {
            "text/plain": [
              "<Figure size 432x288 with 1 Axes>"
            ],
            "image/png": "[encoded data removed]"
          },
          "metadata": {
            "needs_background": "light"
          }
        }
      ]
    },
    {
      "cell_type": "code",
      "source": [
        "pd.Series({\"TSLA\": metrics_df[metrics_df[\"Symbol\"] == \"TSLA\"].Beta.iloc[0], \"ATT\": metrics_df[metrics_df[\"Symbol\"] == \"T\"].Beta.iloc[0], \"KO\": metrics_df[metrics_df[\"Symbol\"] == \"KO\"].Beta.iloc[0]}, name=\"Beta\").plot.bar(legend=True)"
      ],
      "metadata": {
        "colab": {
          "base_uri": "https://localhost:8080/",
          "height": 298
        },
        "id": "9f9cTYzibdFg",
        "outputId": "43c7dd26-deeb-48ef-8d71-deb79c739dc1"
      },
      "execution_count": null,
      "outputs": [
        {
          "output_type": "execute_result",
          "data": {
            "text/plain": [
              "<matplotlib.axes._subplots.AxesSubplot at 0x7fb6b0ea4650>"
            ]
          },
          "metadata": {},
          "execution_count": 48
        },
        {
          "output_type": "display_data",
          "data": {
            "text/plain": [
              "<Figure size 432x288 with 1 Axes>"
            ],
            "image/png": "[encoded data removed]"
          },
          "metadata": {
            "needs_background": "light"
          }
        }
      ]
    },
    {
      "cell_type": "markdown",
      "source": [
        "#MACHINE LEARNING BELOW"
      ],
      "metadata": {
        "id": "VSaay6mseaff"
      }
    },
    {
      "cell_type": "markdown",
      "source": [
        "######THE MARKET"
      ],
      "metadata": {
        "id": "fDBBrZKX497o"
      }
    },
    {
      "cell_type": "code",
      "source": [
        "pipeline = make_pipeline(\n",
        "    PolynomialFeatures(degree=2, include_bias=False),\n",
        "    LinearRegression()\n",
        ")\n",
        "\n",
        "pipeline.fit(stock_df[\"time\"].to_frame(), stock_df.c)\n",
        "\n",
        "y_new_ = pd.Series(pipeline.predict(X=stock_df[\"time\"].to_frame()), index=y_train.index)"
      ],
      "metadata": {
        "id": "XUhLdqJGZAHU"
      },
      "execution_count": null,
      "outputs": []
    },
    {
      "cell_type": "code",
      "source": [
        "y_new_.plot.line()\n",
        "stock_df.set_index(\"t\")[\"c\"].plot.line()"
      ],
      "metadata": {
        "colab": {
          "base_uri": "https://localhost:8080/",
          "height": 297
        },
        "id": "7gxob2fxbIy4",
        "outputId": "2af8598f-bbe1-4dee-8aa5-450eb79fbe3a"
      },
      "execution_count": null,
      "outputs": [
        {
          "output_type": "execute_result",
          "data": {
            "text/plain": [
              "<matplotlib.axes._subplots.AxesSubplot at 0x7f5742f16950>"
            ]
          },
          "metadata": {},
          "execution_count": 90
        },
        {
          "output_type": "display_data",
          "data": {
            "image/png": "[encoded data removed]",
            "text/plain": [
              "<Figure size 432x288 with 1 Axes>"
            ]
          },
          "metadata": {
            "needs_background": "light"
          }
        }
      ]
    },
    {
      "cell_type": "code",
      "source": [
        "pip = make_pipeline(\n",
        "    make_union(\n",
        "        PolynomialFeatures(degree=3, include_bias=False),\n",
        "        FunctionTransformer(lambda t: np.sin(2 * np.pi * 2 * t)),\n",
        "        FunctionTransformer(lambda t: np.cos(2 * np.pi * 2 * t))\n",
        "    ),\n",
        "    LinearRegression()\n",
        ")\n",
        "\n",
        "pip.fit(stock_df[\"time\"].to_frame(), stock_df.c)\n",
        "y_pred_ = pd.Series(pip.predict(X=stock_df[\"time\"].to_frame()), index=y_train.index)\n",
        "\n",
        "y_pred_.plot.line()\n",
        "stock_df.set_index(\"t\")[\"c\"].plot.line()"
      ],
      "metadata": {
        "colab": {
          "base_uri": "https://localhost:8080/",
          "height": 297
        },
        "id": "5fkVTHf3cqHV",
        "outputId": "25586eb6-af58-4ff3-a372-5ba015db19bb"
      },
      "execution_count": null,
      "outputs": [
        {
          "output_type": "execute_result",
          "data": {
            "text/plain": [
              "<matplotlib.axes._subplots.AxesSubplot at 0x7f57423646d0>"
            ]
          },
          "metadata": {},
          "execution_count": 105
        },
        {
          "output_type": "display_data",
          "data": {
            "image/png": "[encoded data removed]",
            "text/plain": [
              "<Figure size 432x288 with 1 Axes>"
            ]
          },
          "metadata": {
            "needs_background": "light"
          }
        }
      ]
    },
    {
      "cell_type": "code",
      "source": [
        "metrics_df.to_csv(\"metrics_ml.csv\")\n",
        "stock_df.to_csv(\"spy_ml.csv\")\n",
        "tsla.to_csv(\"tsla_ml.csv\")\n",
        "att.to_csv(\"att_ml.csv\")\n",
        "ko.to_csv(\"ko_ml.csv\")"
      ],
      "metadata": {
        "id": "skpX7SD3eO6l"
      },
      "execution_count": null,
      "outputs": []
    }
  ]
}